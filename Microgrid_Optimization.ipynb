{
 "cells": [
  {
   "cell_type": "code",
   "execution_count": 28,
   "metadata": {},
   "outputs": [],
   "source": [
    "import pyomo.environ as pyo"
   ]
  },
  {
   "cell_type": "code",
   "execution_count": 46,
   "metadata": {},
   "outputs": [],
   "source": [
    "# Data Definitions\n",
    "time_periods = [t for t in range(0,12)]\n",
    "max_capacity = 1000\n",
    "charging_efficiency = 0.95\n",
    "discharging_efficiency = 0.95\n",
    "min_charge_state = 100\n",
    "max_charge_state = 950\n",
    "max_charge_discharge_rate = 250\n",
    "\n",
    "price_dict = {0:0.05,1:0.04,2:0.04,3:0.03,4:0.03,5:0.04,6:0.06,7:0.08,8:0.10,9:0.12,10:0.14,11:0.15}\n",
    "demand_dict = {0:300,1:280,2:260,3:250,4:240,5:260,6:300,7:350,8:400,9:450,10:500,11:550}\n",
    "\n",
    "solar_gen_dict = {0:0,1:0,2:0,3:0,4:0,5:50,6:150,7:300,8:400,9:450,10:480,11:500}\n",
    "wind_gen_dict = {0:100,1:80,2:50,3:30,4:20,5:40,6:50,7:80,8:120,9:150,10:180,11:200}"
   ]
  },
  {
   "cell_type": "code",
   "execution_count": 48,
   "metadata": {},
   "outputs": [
    {
     "name": "stdout",
     "output_type": "stream",
     "text": [
      "Total Energy 3930\n",
      "Total Demand 4140\n"
     ]
    }
   ],
   "source": [
    "total_energy = sum(solar_gen_dict[t] + wind_gen_dict[t] for t in time_periods) + 500\n",
    "total_demand = sum(demand_dict[t] for t in time_periods)\n",
    "print('Total Energy:', total_energy)\n",
    "print('Total Demand:', total_demand)"
   ]
  },
  {
   "cell_type": "code",
   "execution_count": 44,
   "metadata": {},
   "outputs": [],
   "source": [
    "# Trial and Error\n",
    "time_periods = [t for t in range(0,3)]\n",
    "price_dict = {0:0.05,1:0.04,2:0.04}\n",
    "demand_dict = {0:300,1:280,2:260}\n",
    "solar_gen_dict = {0:0,1:0,2:0}\n",
    "wind_gen_dict = {0:100,1:80,2:50}"
   ]
  },
  {
   "cell_type": "code",
   "execution_count": 42,
   "metadata": {},
   "outputs": [],
   "source": [
    "def battery_model(time_periods,max_capacity,charging_efficiency,discharging_efficiency,min_charge_state,max_charge_state,max_charge_discharge_rate,price_dict,demand_dict,solar_gen_dict,wind_gen_dict):\n",
    "    \n",
    "    # Initialize the model\n",
    "    model = pyo.ConcreteModel(name = 'Microgrid Optimizer')\n",
    "   \n",
    "    # Initialize Sets and Parameters \n",
    "    model.T = pyo.Set(initialize = time_periods)\n",
    "    model.Max_Cap = pyo.Param(initialize = max_capacity)\n",
    "    model.Charge_Eff = pyo.Param(initialize = charging_efficiency)\n",
    "    model.Discharge_Eff = pyo.Param(initialize = discharging_efficiency)\n",
    "    model.Min_C_State = pyo.Param(initialize = min_charge_state)\n",
    "    model.Max_C_State = pyo.Param(initialize = max_charge_state)\n",
    "    model.Max_Charge_Discharge_Rate = pyo.Param(initialize = max_charge_discharge_rate)\n",
    "    model.Price = pyo.Param(model.T,initialize = price_dict)\n",
    "    model.Demand = pyo.Param(model.T,initialize = demand_dict)\n",
    "    model.Solar_Gen = pyo.Param(model.T,initialize = solar_gen_dict)\n",
    "    model.Wind_Gen = pyo.Param(model.T,initialize = wind_gen_dict)\n",
    "    model.Initial_Charge = pyo.Param(initialize = 500)\n",
    "\n",
    "    # Initialize Variables\n",
    "    # def initBattery(model,i):\n",
    "    #     if i == 0:\n",
    "    #         return 500\n",
    "    #     else:\n",
    "    #         pass\n",
    "    # model.B_State = pyo.Var(model.T, bounds = (model.Min_C_State,model.Max_C_State), initialize = initBattery)\n",
    "    model.B_State = pyo.Var(model.T, bounds = (0,model.Max_Cap)) # initialize = initBattery\n",
    "    model.Charge_R = pyo.Var(model.T, bounds = (0,model.Max_Charge_Discharge_Rate))\n",
    "    model.Discharge_R = pyo.Var(model.T, bounds = (0,model.Max_Charge_Discharge_Rate))\n",
    "    model.Grid_I = pyo.Var(model.T, within = pyo.NonNegativeReals)\n",
    "    model.Grid_E = pyo.Var(model.T, within = pyo.NonNegativeReals)\n",
    "    model.Relative_Flow = pyo.Var(model.T, within = pyo.NonNegativeReals)   # Can be eliminated if import and export constraiints combined\n",
    "    model.Charge_Binary = pyo.Var(model.T, within = pyo.Binary)\n",
    "    # Objective Function\n",
    "    def obj_rule(model):\n",
    "        return sum(model.Price[t]*(model.Grid_I[t] - model.Grid_E[t]) for t in model.T)\n",
    "    model.obj = pyo.Objective(rule = obj_rule, sense = pyo.minimize)\n",
    "\n",
    "    # Constraints\n",
    "    # 1st Constraint: Battery State\n",
    "    def batteryConstraint(model, t):\n",
    "        if t != 0:\n",
    "            return model.B_State[t] == model.B_State[t-1] + model.Charge_Eff*model.Charge_R[t] - model.Discharge_R[t]/model.Discharge_Eff\n",
    "        else:\n",
    "            return model.B_State[t] == model.Initial_Charge + model.Charge_Eff*model.Charge_R[t] - model.Discharge_R[t]/model.Discharge_Eff\n",
    "    model.state_constr = pyo.Constraint(model.T, rule = batteryConstraint)\n",
    "\n",
    "    # 2nd Constraint: Min Battery Charge\n",
    "    def stateMinCharge(model,t):\n",
    "        return model.B_State[t] >= model.Min_C_State\n",
    "    model.state_min_c_constr = pyo.Constraint(model.T, rule = stateMinCharge)    \n",
    "\n",
    "    # 3rd Constraint: Max Battery Charge\n",
    "    def stateMaxCharge(model,t):\n",
    "        return model.B_State[t] <= model.Max_C_State\n",
    "    model.state_max_c_constr = pyo.Constraint(model.T, rule = stateMaxCharge)\n",
    "\n",
    "    # 4nd Constraint : Grid Import\n",
    "    def gridImportConstraint(model, t):\n",
    "        return model.Grid_I[t] == model.Charge_Eff*model.Charge_R[t] + model.Relative_Flow[t]\n",
    "    model.grid_import_constr = pyo.Constraint(model.T, rule = gridImportConstraint)\n",
    "\n",
    "    # 5th Constraint : Grid Export\n",
    "    def gridExportConstraint(model, t):\n",
    "        return model.Grid_E[t] == model.Discharge_R[t]/model.Discharge_Eff + model.Relative_Flow[t]\n",
    "    model.grid_export_constr = pyo.Constraint(model.T, rule = gridExportConstraint)\n",
    "\n",
    "    # 6th Constraint: Source Energy\n",
    "    def sourceEnergyConstraint(model, t):\n",
    "        return model.Grid_I[t] <=  model.Solar_Gen[t] + model.Wind_Gen[t]\n",
    "    model.source_energy_constr = pyo.Constraint(model.T, rule = sourceEnergyConstraint)\n",
    "\n",
    "    # 7th Constraint: Customer Demand\n",
    "    def customerDemandConstraint(model, t):\n",
    "        return model.Grid_E[t] >= model.Demand[t]\n",
    "    model.customer_demand_constr = pyo.Constraint(model.T, rule = customerDemandConstraint)\n",
    "\n",
    "    # 8.1th Constraint: Disable simultaneous charge and discharge\n",
    "    def chargeBinary(model,t):\n",
    "        return model.Charge_R[t]/model.Max_Charge_Discharge_Rate <= model.Charge_Binary[t]\n",
    "    model.charge_binary_constr = pyo.Constraint(model.T, rule = chargeBinary)\n",
    "\n",
    "    #8.2th Constraint: Disable simultaneous charge and discharge\n",
    "    def dischargeBinary(model,t):\n",
    "        return model.Discharge_R[t]/model.Max_Charge_Discharge_Rate <= 1 - model.Charge_Binary[t]\n",
    "    model.discharge_binary_constr = pyo.Constraint(model.T, rule = dischargeBinary)\n",
    "\n",
    "    # Solve\n",
    "    solver = pyo.SolverFactory('glpk')\n",
    "    results = solver.solve(model)\n",
    "    pyo.assert_optimal_termination(results)\n",
    "    model.display()"
   ]
  },
  {
   "cell_type": "code",
   "execution_count": 43,
   "metadata": {},
   "outputs": [
    {
     "name": "stdout",
     "output_type": "stream",
     "text": [
      "Model Microgrid Optimizer\n",
      "\n",
      "  Variables:\n",
      "    B_State : Size=2, Index=T\n",
      "        Key : Lower : Value : Upper  : Fixed : Stale : Domain\n",
      "          0 :     0 : 300.0 : 1000.0 : False : False :  Reals\n",
      "          1 :     0 : 100.0 : 1000.0 : False : False :  Reals\n",
      "    Charge_R : Size=2, Index=T\n",
      "        Key : Lower : Value : Upper : Fixed : Stale : Domain\n",
      "          0 :     0 :   0.0 : 250.0 : False : False :  Reals\n",
      "          1 :     0 :   0.0 : 250.0 : False : False :  Reals\n",
      "    Discharge_R : Size=2, Index=T\n",
      "        Key : Lower : Value : Upper : Fixed : Stale : Domain\n",
      "          0 :     0 : 190.0 : 250.0 : False : False :  Reals\n",
      "          1 :     0 : 190.0 : 250.0 : False : False :  Reals\n",
      "    Grid_I : Size=2, Index=T\n",
      "        Key : Lower : Value : Upper : Fixed : Stale : Domain\n",
      "          0 :     0 : 100.0 :  None : False : False : NonNegativeReals\n",
      "          1 :     0 :  80.0 :  None : False : False : NonNegativeReals\n",
      "    Grid_E : Size=2, Index=T\n",
      "        Key : Lower : Value : Upper : Fixed : Stale : Domain\n",
      "          0 :     0 : 300.0 :  None : False : False : NonNegativeReals\n",
      "          1 :     0 : 280.0 :  None : False : False : NonNegativeReals\n",
      "    Relative_Flow : Size=2, Index=T\n",
      "        Key : Lower : Value : Upper : Fixed : Stale : Domain\n",
      "          0 :     0 : 100.0 :  None : False : False : NonNegativeReals\n",
      "          1 :     0 :  80.0 :  None : False : False : NonNegativeReals\n",
      "    Charge_Binary : Size=2, Index=T\n",
      "        Key : Lower : Value : Upper : Fixed : Stale : Domain\n",
      "          0 :     0 :   0.0 :     1 : False : False : Binary\n",
      "          1 :     0 :   0.0 :     1 : False : False : Binary\n",
      "\n",
      "  Objectives:\n",
      "    obj : Size=1, Index=None, Active=True\n",
      "        Key  : Active : Value\n",
      "        None :   True : -18.0\n",
      "\n",
      "  Constraints:\n",
      "    state_constr : Size=2\n",
      "        Key : Lower : Body : Upper\n",
      "          0 :   0.0 :  0.0 :   0.0\n",
      "          1 :   0.0 :  0.0 :   0.0\n",
      "    state_min_c_constr : Size=2\n",
      "        Key : Lower : Body  : Upper\n",
      "          0 : 100.0 : 300.0 :  None\n",
      "          1 : 100.0 : 100.0 :  None\n",
      "    state_max_c_constr : Size=2\n",
      "        Key : Lower : Body  : Upper\n",
      "          0 :  None : 300.0 : 950.0\n",
      "          1 :  None : 100.0 : 950.0\n",
      "    grid_import_constr : Size=2\n",
      "        Key : Lower : Body : Upper\n",
      "          0 :   0.0 :  0.0 :   0.0\n",
      "          1 :   0.0 :  0.0 :   0.0\n",
      "    grid_export_constr : Size=2\n",
      "        Key : Lower : Body : Upper\n",
      "          0 :   0.0 :  0.0 :   0.0\n",
      "          1 :   0.0 :  0.0 :   0.0\n",
      "    source_energy_constr : Size=2\n",
      "        Key : Lower : Body  : Upper\n",
      "          0 :  None : 100.0 : 100.0\n",
      "          1 :  None :  80.0 :  80.0\n",
      "    customer_demand_constr : Size=2\n",
      "        Key : Lower : Body  : Upper\n",
      "          0 : 300.0 : 300.0 :  None\n",
      "          1 : 280.0 : 280.0 :  None\n",
      "    charge_binary_constr : Size=2\n",
      "        Key : Lower : Body : Upper\n",
      "          0 :  None :  0.0 :   0.0\n",
      "          1 :  None :  0.0 :   0.0\n",
      "    discharge_binary_constr : Size=2\n",
      "        Key : Lower : Body  : Upper\n",
      "          0 :  None : -0.24 :   0.0\n",
      "          1 :  None : -0.24 :   0.0\n"
     ]
    }
   ],
   "source": [
    "battery_model(time_periods,max_capacity,charging_efficiency, discharging_efficiency,min_charge_state,max_charge_state,max_charge_discharge_rate,price_dict,demand_dict,solar_gen_dict,wind_gen_dict)"
   ]
  },
  {
   "cell_type": "code",
   "execution_count": 4,
   "metadata": {},
   "outputs": [],
   "source": [
    "# Separate Model:\n",
    "# Initialize the model\n",
    "model = pyo.ConcreteModel()\n",
    "   \n",
    "# Initialize Sets and Parameters \n",
    "model.T = pyo.Set(initialize = time_periods)\n",
    "model.Max_Cap = pyo.Param(initialize = max_capacity)\n",
    "model.Charge_Eff = pyo.Param(initialize = charging_efficiency)\n",
    "model.Discharge_Eff = pyo.Param(initialize = discharging_efficiency)\n",
    "model.Min_C_State = pyo.Param(initialize = min_charge_state)\n",
    "model.Max_C_State = pyo.Param(initialize = max_charge_state)\n",
    "model.Max_Charge_Discharge_Rate = pyo.Param(initialize = max_charge_discharge_rate)\n",
    "model.Price = pyo.Param(model.T,initialize = price_dict)\n",
    "model.Demand = pyo.Param(model.T,initialize = demand_dict)\n",
    "model.Solar_Gen = pyo.Param(model.T,initialize = solar_gen_dict)\n",
    "model.Wind_Gen = pyo.Param(model.T,initialize = wind_gen_dict)\n",
    "model.Initial_Charge = pyo.Param(initialize = 500)\n"
   ]
  },
  {
   "cell_type": "code",
   "execution_count": 5,
   "metadata": {},
   "outputs": [],
   "source": [
    "# Variables\n",
    "model.B_State = pyo.Var(model.T, bounds = (0,model.Max_Cap)) # initialize = initBattery\n",
    "model.Charge_R = pyo.Var(model.T, bounds = (0,model.Max_Charge_Discharge_Rate))\n",
    "model.Discharge_R = pyo.Var(model.T, bounds = (0,model.Max_Charge_Discharge_Rate))\n",
    "model.Grid_I = pyo.Var(model.T, within = pyo.NonNegativeReals)\n",
    "model.Grid_E = pyo.Var(model.T, within = pyo.NonNegativeReals)\n",
    "model.Relative_Flow = pyo.Var(model.T, within = pyo.NonNegativeReals)   # Can be eliminated if import and export constraiints combined\n",
    "model.Charge_Binary = pyo.Var(model.T, within = pyo.Binary)"
   ]
  },
  {
   "cell_type": "code",
   "execution_count": null,
   "metadata": {},
   "outputs": [],
   "source": [
    "# Objective Function\n",
    "def obj_rule(model):\n",
    "    return sum(model.Price[t]*(model.Grid_I[t] - model.Grid_E[t]) for t in model.T)\n",
    "model.obj = pyo.Objective(rule = obj_rule, sense = pyo.minimize)"
   ]
  },
  {
   "cell_type": "code",
   "execution_count": null,
   "metadata": {},
   "outputs": [],
   "source": [
    " # Constraints\n",
    "# 1st Constraint: Battery State\n",
    "def batteryConstraint(model, t):\n",
    "    if t != 0:\n",
    "        return model.B_State[t] == model.B_State[t-1] + model.Charge_Eff*model.Charge_R[t] - model.Discharge_R[t]/model.Discharge_Eff\n",
    "    else:\n",
    "        return model.B_State[t] == model.Initial_Charge + model.Charge_Eff*model.Charge_R[t] - model.Discharge_R[t]/model.Discharge_Eff\n",
    "model.state_constr = pyo.Constraint(model.T, rule = batteryConstraint)"
   ]
  },
  {
   "cell_type": "code",
   "execution_count": null,
   "metadata": {},
   "outputs": [],
   "source": [
    "# 2nd Constraint: Min Battery Charge\n",
    "def stateMinCharge(model,t):\n",
    "    return model.B_State[t] >= model.Min_C_State\n",
    "model.state_min_c_constr = pyo.Constraint(model.T, rule = stateMinCharge)    "
   ]
  },
  {
   "cell_type": "code",
   "execution_count": null,
   "metadata": {},
   "outputs": [],
   "source": [
    "# 3rd Constraint: Max Battery Charge\n",
    "def stateMaxCharge(model,t):\n",
    "    return model.B_State[t] <= model.Max_C_State\n",
    "model.state_max_c_constr = pyo.Constraint(model.T, rule = stateMaxCharge)"
   ]
  },
  {
   "cell_type": "code",
   "execution_count": null,
   "metadata": {},
   "outputs": [],
   "source": [
    "# 4nd Constraint : Grid Import\n",
    "def gridImportConstraint(model, t):\n",
    "    return model.Grid_I[t] == model.Charge_Eff*model.Charge_R[t] + model.Relative_Flow[t]\n",
    "model.grid_import_constr = pyo.Constraint(model.T, rule = gridImportConstraint)"
   ]
  },
  {
   "cell_type": "code",
   "execution_count": null,
   "metadata": {},
   "outputs": [],
   "source": [
    "# 5th Constraint : Grid Export\n",
    "def gridExportConstraint(model, t):\n",
    "    return model.Grid_E[t] == model.Discharge_R[t]/model.Discharge_Eff + model.Relative_Flow[t]\n",
    "model.grid_export_constr = pyo.Constraint(model.T, rule = gridExportConstraint)"
   ]
  },
  {
   "cell_type": "code",
   "execution_count": null,
   "metadata": {},
   "outputs": [],
   "source": [
    "# 6th Constraint: Source Energy\n",
    "def sourceEnergyConstraint(model, t):\n",
    "    return model.Grid_I[t] <=  model.Solar_Gen[t] + model.Wind_Gen[t]\n",
    "model.source_energy_constr = pyo.Constraint(model.T, rule = sourceEnergyConstraint)"
   ]
  },
  {
   "cell_type": "code",
   "execution_count": null,
   "metadata": {},
   "outputs": [],
   "source": [
    "# 7th Constraint: Customer Demand\n",
    "def customerDemandConstraint(model, t):\n",
    "    return model.Grid_E[t] >= model.Demand[t]\n",
    "model.customer_demand_constr = pyo.Constraint(model.T, rule = customerDemandConstraint)"
   ]
  },
  {
   "cell_type": "code",
   "execution_count": null,
   "metadata": {},
   "outputs": [],
   "source": [
    "# 8.1th Constraint: Disable simultaneous charge and discharge\n",
    "def chargeBinary(model,t):\n",
    "    return model.Charge_R[t]/model.Max_Charge_Discharge_Rate <= model.Charge_Binary[t]\n",
    "model.charge_binary_constr = pyo.Constraint(model.T, rule = chargeBinary)\n",
    "\n",
    "#8.2th Constraint: Disable simultaneous charge and discharge\n",
    "def dischargeBinary(model,t):\n",
    "    return model.Discharge_R[t]/model.Max_Charge_Discharge_Rate <= 1 - model.Charge_Binary[t]\n",
    "model.discharge_binary_constr = pyo.Constraint(model.T, rule = dischargeBinary)"
   ]
  }
 ],
 "metadata": {
  "kernelspec": {
   "display_name": "analytics",
   "language": "python",
   "name": "python3"
  },
  "language_info": {
   "codemirror_mode": {
    "name": "ipython",
    "version": 3
   },
   "file_extension": ".py",
   "mimetype": "text/x-python",
   "name": "python",
   "nbconvert_exporter": "python",
   "pygments_lexer": "ipython3",
   "version": "3.11.9"
  }
 },
 "nbformat": 4,
 "nbformat_minor": 2
}
